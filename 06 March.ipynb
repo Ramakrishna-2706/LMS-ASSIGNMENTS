{
 "cells": [
  {
   "cell_type": "code",
   "execution_count": 1,
   "id": "1919b8f4",
   "metadata": {},
   "outputs": [
    {
     "name": "stdout",
     "output_type": "stream",
     "text": [
      "Requirement already satisfied: nltk in c:\\users\\rama krishna\\anaconda3\\lib\\site-packages (3.9.1)\n",
      "Requirement already satisfied: joblib in c:\\users\\rama krishna\\anaconda3\\lib\\site-packages (from nltk) (1.1.0)\n",
      "Requirement already satisfied: click in c:\\users\\rama krishna\\anaconda3\\lib\\site-packages (from nltk) (8.0.4)\n",
      "Requirement already satisfied: tqdm in c:\\users\\rama krishna\\anaconda3\\lib\\site-packages (from nltk) (4.64.1)\n",
      "Requirement already satisfied: regex>=2021.8.3 in c:\\users\\rama krishna\\anaconda3\\lib\\site-packages (from nltk) (2022.7.9)\n",
      "Requirement already satisfied: colorama in c:\\users\\rama krishna\\anaconda3\\lib\\site-packages (from click->nltk) (0.4.6)\n"
     ]
    }
   ],
   "source": [
    "!pip install nltk"
   ]
  },
  {
   "cell_type": "code",
   "execution_count": 5,
   "id": "5aecce91",
   "metadata": {},
   "outputs": [],
   "source": [
    "# Import necessary modules\n",
    "import nltk\n",
    "import re\n",
    "from nltk.chat.util import Chat, reflections"
   ]
  },
  {
   "cell_type": "code",
   "execution_count": 6,
   "id": "f516aaaa",
   "metadata": {},
   "outputs": [
    {
     "name": "stderr",
     "output_type": "stream",
     "text": [
      "[nltk_data] Error loading punkt: <urlopen error [Errno 11001]\n",
      "[nltk_data]     getaddrinfo failed>\n",
      "[nltk_data] Error loading averaged_perceptron_tagger: <urlopen error\n",
      "[nltk_data]     [Errno 11001] getaddrinfo failed>\n"
     ]
    },
    {
     "data": {
      "text/plain": [
       "False"
      ]
     },
     "execution_count": 6,
     "metadata": {},
     "output_type": "execute_result"
    }
   ],
   "source": [
    "# Download NLTK data\n",
    "nltk.download('punkt')\n",
    "nltk.download('averaged_perceptron_tagger')"
   ]
  },
  {
   "cell_type": "code",
   "execution_count": 7,
   "id": "6989a160",
   "metadata": {},
   "outputs": [],
   "source": [
    "# Define patterns and responses\n",
    "pairs = [\n",
    "    [r\"my name is (.*)\", [\"Hello %1, how can I assist you today?\",]],\n",
    "    [r\"hi|hey|hello\", [\"Hello, how can I help you?\", \"Hey there! What can I do for you?\", \n",
    "                       \"Hi! How can I assist you today?\"]],\n",
    "    [r\"what is your name?\", [\"I am a chatbot created to assist you. You can call me Chatbot.\",]],\n",
    "    [r\"how are you?\", [\"I'm a bot, so I don't have feelings, but I'm here to help you!\",]],\n",
    "    [r\"can you help me with (.*)\", [\"Sure, I can help you with %1. Please provide more details.\",]],\n",
    "    [r\"sorry (.*)\", [\"It's okay. How can I assist you?\",]],\n",
    "    [r\"thank you|thanks\", [\"You're welcome!\", \"No problem!\", \"Happy to help!\"]],\n",
    "    [r\"quit\", [\"Bye! Have a great day!\", \"Goodbye!\"]],\n",
    "    [r\"best place (.*)\", [\"Hyderabad\",\"Banglore\",\"Vizag\", \"Mumbai\"]],\n",
    "    [r\"golden|temple (.*)\", [\"It is in amritsar\"]],\n",
    "    [r\"(.*)\", [\"I'm sorry, I don't understand that. Can you rephrase?\", \n",
    "               \"Could you please elaborate on that?\"]]]"
   ]
  },
  {
   "cell_type": "code",
   "execution_count": 8,
   "id": "1eb8dc18",
   "metadata": {},
   "outputs": [],
   "source": [
    "# Define the chatbot class\n",
    "class RBChatbot:\n",
    "    def __init__(self, pairs):\n",
    "        self.chat = Chat(pairs, reflections)        \n",
    "    def respond(self, user_input):\n",
    "        return self.chat.respond(user_input)\n",
    "# Initialize the chatbot\n",
    "chatbot = RBChatbot(pairs)"
   ]
  },
  {
   "cell_type": "code",
   "execution_count": 14,
   "id": "8d6e07c1",
   "metadata": {},
   "outputs": [
    {
     "name": "stdout",
     "output_type": "stream",
     "text": [
      "Hi, I'm your chatbot. Type 'quit' to exit.\n",
      "You: my name is \n",
      "Chatbot: Hello , how can I assist you today?\n",
      "You: my name is Rama Krishna\n",
      "Chatbot: Hello rama krishna, how can I assist you today?\n",
      "You: hi\n",
      "Chatbot: Hey there! What can I do for you?\n",
      "You: what is your name?\n",
      "Chatbot: I am a chatbot created to assist you. You can call me Chatbot.\n",
      "You: how are you?\n",
      "Chatbot: I'm a bot, so I don't have feelings, but I'm here to help you!\n",
      "You: can you help me with maths subject\n",
      "Chatbot: Sure, I can help you with maths subject. Please provide more details.\n",
      "You: thanks\n",
      "Chatbot: Happy to help!\n",
      "You: gold\n",
      "Chatbot: Could you please elaborate on that?\n",
      "You: golden\n",
      "Chatbot: It is in amritsar\n",
      "You: temple\n",
      "Chatbot: Could you please elaborate on that?\n",
      "You: quit\n",
      "Chatbot: Bye! Have a great day!\n"
     ]
    }
   ],
   "source": [
    "# Function to chat with the bot\n",
    "def chat_with_bot():\n",
    "    print(\"Hi, I'm your chatbot. Type 'quit' to exit.\")\n",
    "    while True:\n",
    "        user_input = input(\"You: \")\n",
    "        if user_input.lower() == 'quit':\n",
    "            print(\"Chatbot: Bye! Have a great day!\")\n",
    "            break\n",
    "        response = chatbot.respond(user_input)\n",
    "        print(f\"Chatbot: {response}\")\n",
    "# Start chatting with the bot\n",
    "chat_with_bot()"
   ]
  },
  {
   "cell_type": "code",
   "execution_count": null,
   "id": "8d68d9e0",
   "metadata": {},
   "outputs": [],
   "source": []
  }
 ],
 "metadata": {
  "kernelspec": {
   "display_name": "Python 3 (ipykernel)",
   "language": "python",
   "name": "python3"
  },
  "language_info": {
   "codemirror_mode": {
    "name": "ipython",
    "version": 3
   },
   "file_extension": ".py",
   "mimetype": "text/x-python",
   "name": "python",
   "nbconvert_exporter": "python",
   "pygments_lexer": "ipython3",
   "version": "3.9.13"
  }
 },
 "nbformat": 4,
 "nbformat_minor": 5
}
