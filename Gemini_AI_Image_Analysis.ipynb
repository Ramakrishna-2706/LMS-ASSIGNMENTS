{
  "nbformat": 4,
  "nbformat_minor": 0,
  "metadata": {
    "colab": {
      "provenance": [],
      "gpuType": "T4",
      "authorship_tag": "ABX9TyP/3bv+or/NOlC57D3onZF9",
      "include_colab_link": true
    },
    "kernelspec": {
      "name": "python3",
      "display_name": "Python 3"
    },
    "language_info": {
      "name": "python"
    },
    "accelerator": "GPU"
  },
  "cells": [
    {
      "cell_type": "markdown",
      "metadata": {
        "id": "view-in-github",
        "colab_type": "text"
      },
      "source": [
        "<a href=\"https://colab.research.google.com/github/Ramakrishna-2706/LMS-ASSIGNMENTS/blob/main/Gemini_AI_Image_Analysis.ipynb\" target=\"_parent\"><img src=\"https://colab.research.google.com/assets/colab-badge.svg\" alt=\"Open In Colab\"/></a>"
      ]
    },
    {
      "cell_type": "code",
      "execution_count": 3,
      "metadata": {
        "id": "Wx9xaqTkYiiy"
      },
      "outputs": [],
      "source": [
        "import google.generativeai as genai\n",
        "from google.colab import userdata\n",
        "GOOGLE_API_KEY=userdata.get('GOOGLE_API_KEY')\n",
        "genai.configure(api_key=GOOGLE_API_KEY)"
      ]
    },
    {
      "cell_type": "code",
      "source": [
        "import pathlib\n",
        "import textwrap\n",
        "from IPython.display import display, Markdown\n",
        "def to_markdown(text):\n",
        "    text = text.replace('•', '  *')\n",
        "    return Markdown(textwrap.indent(text, '> ', predicate=lambda _: True))"
      ],
      "metadata": {
        "id": "0OvfcYc8Y_yx"
      },
      "execution_count": 4,
      "outputs": []
    },
    {
      "cell_type": "code",
      "source": [
        "import PIL.Image\n",
        "img = PIL.Image.open('image1.jpg')\n",
        "img\n",
        "model = genai.GenerativeModel('gemini-1.5-flash')\n",
        "response = model.generate_content([\"Write a short, engaging blog post based on this picture.It should include a description of the  photo and talk about my journey meal prepping.\", img],\n",
        "stream=True)\n",
        "response.resolve()"
      ],
      "metadata": {
        "id": "DxPA75NtaH7T"
      },
      "execution_count": 7,
      "outputs": []
    },
    {
      "cell_type": "code",
      "source": [
        "to_markdown(response.text)"
      ],
      "metadata": {
        "colab": {
          "base_uri": "https://localhost:8080/",
          "height": 434
        },
        "id": "ax6oB9rnblDV",
        "outputId": "f262695f-68b9-47b5-861c-83a698408c6c"
      },
      "execution_count": 8,
      "outputs": [
        {
          "output_type": "execute_result",
          "data": {
            "text/plain": [
              "<IPython.core.display.Markdown object>"
            ],
            "text/markdown": "> ## My Meal Prep Journey: From Chaos to Deliciousness!\n> \n> The picture says it all, doesn't it?  Two perfectly portioned containers brimming with deliciousness – fluffy white rice, vibrant orange carrots, a sea of healthy broccoli florets, and tender pieces of savory chicken.  This isn't just dinner; it's the culmination of my journey into the wonderful world of meal prepping.\n> \n> For years, my evenings were a whirlwind of last-minute food decisions, unhealthy takeout, and endless cleanup.  My fridge resembled a culinary disaster zone.  Then, I decided enough was enough! I needed a more efficient and healthier approach to eating.  \n> \n> Enter: meal prepping.  It wasn't love at first sight. My first attempt was a slightly soggy disaster, to be honest.  But I persevered. I started small, focusing on simple recipes and manageable portion sizes.  I gradually learned to master cooking techniques for optimal texture and flavor, and soon enough, my meal prep sessions transformed from chaotic struggles into a satisfying and productive part of my week.\n> \n> Now, instead of dreading dinner, I anticipate it. These pretty little containers aren't just lunches or dinners; they're a reminder of my commitment to myself – my health, my well-being, and my sanity.  Meal prepping has saved me time, money, and countless unhealthy choices.  \n> \n> So, what's my advice to anyone starting their own meal prep journey?  Start small, be patient, don't be afraid to experiment, and most importantly, enjoy the process!  The delicious results – and the beautiful photos you can take – are totally worth it.\n"
          },
          "metadata": {},
          "execution_count": 8
        }
      ]
    },
    {
      "cell_type": "code",
      "source": [
        "response = model.generate_content([\"Generate an accurate caption for this image.\", img])\n",
        "print(response.text)"
      ],
      "metadata": {
        "colab": {
          "base_uri": "https://localhost:8080/",
          "height": 436
        },
        "id": "vZpmJe1HcouI",
        "outputId": "2ca8dd9f-5a25-4fb3-cccd-3e0f82df090b"
      },
      "execution_count": 9,
      "outputs": [
        {
          "output_type": "stream",
          "name": "stdout",
          "text": [
            "Here are a few caption options for the image:\n",
            "\n",
            "**Option 1 (Simple & Descriptive):**\n",
            "\n",
            "> Healthy and delicious meal prep!  Chicken and broccoli with rice, ready for the week.\n",
            "\n",
            "**Option 2 (More Engaging):**\n",
            "\n",
            "> Lunch goals!  These chicken and veggie bowls are packed with flavor and make weekday lunches a breeze.  What's your favorite meal prep recipe?\n",
            "\n",
            "**Option 3 (Focus on Health):**\n",
            "\n",
            "> Fueling my body with goodness!  This easy chicken and broccoli rice bowl is high in protein and perfect for a healthy and balanced meal.\n",
            "\n",
            "\n",
            "**Option 4 (A bit more playful):**\n",
            "\n",
            ">  Bye bye takeout, hello delicious and healthy meal prep!  These bowls are too pretty to resist.\n",
            "\n",
            "\n",
            "Choose the caption that best suits your intended audience and platform.\n",
            "\n"
          ]
        }
      ]
    },
    {
      "cell_type": "code",
      "source": [
        "response = model.generate_content([\"Generate an accurate name for this image.\", img])\n",
        "print(response.text)"
      ],
      "metadata": {
        "colab": {
          "base_uri": "https://localhost:8080/",
          "height": 237
        },
        "id": "Rrn1iKp6fWLG",
        "outputId": "62ff4bea-b1cd-4b77-f8cb-3ff1652e1402"
      },
      "execution_count": 10,
      "outputs": [
        {
          "output_type": "stream",
          "name": "stdout",
          "text": [
            "Here are a few name options for the image, capturing different aspects:\n",
            "\n",
            "* **Teriyaki Chicken and Broccoli Meal Prep** (Simple, descriptive)\n",
            "* **Chicken and Vegetable Rice Bowls** (Focuses on components)\n",
            "* **Healthy Lunch Meal Prep Containers** (Highlights the health and practicality)\n",
            "* **Two Glass Containers of Asian-Inspired Chicken and Rice** (More formal and detailed)\n",
            "* **Easy Weekday Meal Prep: Chicken and Veggie Rice** (Suggestive, appeals to a target audience)\n",
            "\n",
            "\n",
            "The best choice depends on the intended use and audience.  I personally think **Teriyaki Chicken and Broccoli Meal Prep** is a good balance of accuracy and conciseness.\n",
            "\n"
          ]
        }
      ]
    },
    {
      "cell_type": "code",
      "source": [
        "from PIL import Image\n",
        "# Open an Image\n",
        "image_path = \"girl.jpg\"\n",
        "image = Image.open(image_path)\n",
        "\n",
        "#Generate a description of the image\n",
        "response = model.generate_content([\"Describe this image in detail.\", image])\n",
        "print(response.text)"
      ],
      "metadata": {
        "colab": {
          "base_uri": "https://localhost:8080/",
          "height": 273
        },
        "id": "c7_MUSWrgM29",
        "outputId": "7ef0ba0c-c481-49bd-ffd8-164517d54216"
      },
      "execution_count": 11,
      "outputs": [
        {
          "output_type": "stream",
          "name": "stdout",
          "text": [
            "Here's a description of the image:\n",
            "\n",
            "Close-up view of a woman with shoulder-length, curly brown hair. \n",
            "\n",
            "\n",
            "She is light-skinned and smiling, making a pointing gesture with her right index finger towards something off-camera. Her arms are slightly crossed, and her expression is friendly and engaging. \n",
            "\n",
            "\n",
            "She is wearing a teal-colored three-quarter sleeve top or tunic with a subtle, repeating gold pattern. The top has a simple neckline. \n",
            "\n",
            "\n",
            "The background is a plain, bright white, which makes the woman and her clothing stand out clearly. The overall lighting is soft and even. The image appears to be a professional portrait, possibly for a website or advertisement.\n",
            "\n"
          ]
        }
      ]
    },
    {
      "cell_type": "code",
      "source": [
        "response = model.generate_content([\"What emotions ca you detect in this image.\", img])\n",
        "print(response.text)"
      ],
      "metadata": {
        "colab": {
          "base_uri": "https://localhost:8080/",
          "height": 146
        },
        "id": "7lcvfVrlhheH",
        "outputId": "943436cf-94c0-4d2a-fb12-d8925cfee2fd"
      },
      "execution_count": 12,
      "outputs": [
        {
          "output_type": "stream",
          "name": "stdout",
          "text": [
            "The image evokes feelings of:\n",
            "\n",
            "* **Hunger/Appetite:** The vibrant colors and appetizing presentation of the food are likely to stimulate hunger in the viewer.\n",
            "* **Healthiness:** The meal appears to be healthy and balanced, which might evoke feelings of well-being and health consciousness.\n",
            "* **Preparation/Organization:** The meals are neatly packaged in containers, suggesting planning and organization, which can evoke feelings of calmness or satisfaction.\n",
            "* **Contentment/Satisfaction:** The overall scene conveys a sense of satisfaction and simple pleasure associated with a well-prepared and healthy meal.\n"
          ]
        }
      ]
    },
    {
      "cell_type": "code",
      "source": [
        "#open an image\n",
        "image_path = \"quote.jpg\"\n",
        "image = Image.open(image_path)\n",
        "\n",
        "#Generate a contentpresent in the image\n",
        "response = model.generate_content([\"Extract and read the text from this image.\", image])\n",
        "print(response.text)"
      ],
      "metadata": {
        "colab": {
          "base_uri": "https://localhost:8080/",
          "height": 126
        },
        "id": "XoRIUgZPh-Oc",
        "outputId": "a02c9026-6ef0-4bf6-af01-eb586d880f5f"
      },
      "execution_count": 13,
      "outputs": [
        {
          "output_type": "stream",
          "name": "stdout",
          "text": [
            "Here's the text from the image:\n",
            "\n",
            "FAILURE is not the\n",
            "opposite of success\n",
            "it's PART OF\n",
            "SUCCESS\n"
          ]
        }
      ]
    },
    {
      "cell_type": "code",
      "source": [],
      "metadata": {
        "id": "rrHbVNeyklXa"
      },
      "execution_count": null,
      "outputs": []
    }
  ]
}